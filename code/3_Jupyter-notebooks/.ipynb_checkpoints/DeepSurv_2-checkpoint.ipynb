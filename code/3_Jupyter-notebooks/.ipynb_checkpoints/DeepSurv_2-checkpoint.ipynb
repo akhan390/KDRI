{
 "cells": [
  {
   "cell_type": "code",
   "execution_count": 1,
   "metadata": {},
   "outputs": [],
   "source": [
    "import pandas as pd\n",
    "import numpy as np\n",
    "import matplotlib.pyplot as plt\n",
    "from sklearn.preprocessing import StandardScaler\n",
    "from sklearn.model_selection import train_test_split\n",
    "import sksurv.datasets\n",
    "from sklearn_pandas import DataFrameMapper\n",
    "\n",
    "import torch\n",
    "import torchtuples as tt\n",
    "\n",
    "from pycox.models import CoxPH\n",
    "from pycox.evaluation import EvalSurv"
   ]
  },
  {
   "cell_type": "code",
   "execution_count": 2,
   "metadata": {},
   "outputs": [],
   "source": [
    "np.random.seed(1234)\n",
    "_ = torch.manual_seed(123)"
   ]
  },
  {
   "cell_type": "code",
   "execution_count": 3,
   "metadata": {},
   "outputs": [],
   "source": [
    "df = pd.read_csv('../../data/gcp_3.csv')\n",
    "df.drop(columns = {'COLD_ISCH_KI'}, inplace = True) # Dropped cold ischemic time\n",
    "df.set_index(keys = 'TRR_ID_CODE', inplace = True)"
   ]
  },
  {
   "cell_type": "code",
   "execution_count": 5,
   "metadata": {},
   "outputs": [],
   "source": [
    "df_train = df\n",
    "df_test = df_train.sample(frac = 0.2)\n",
    "df_train = df_train.drop(df_test.index)\n",
    "df_val = df_train.sample(frac = 0.2)\n",
    "df_train = df_train.drop(df_val.index)\n"
   ]
  },
  {
   "cell_type": "code",
   "execution_count": 6,
   "metadata": {},
   "outputs": [],
   "source": [
    "# Feature transforms\n",
    "\n",
    "# Used features 0-25 from weights\n",
    "\n",
    "cols_standardize = ['AGE_DON', 'AGE', 'INIT_AGE', # Removed Cold Ischemic Time\n",
    "                    'Transplant_Year', 'BUN_DON', 'DISTANCE', 'PO2_DON',\n",
    "                   'CREAT_TRR', 'CREAT_DON', 'BMI_CALC', 'HEMATOCRIT_DON']\n",
    "\n",
    "cols_leave = ['ECD_DONOR', 'HIST_HYPERTENS_DON', 'URINE_INF_DON',\n",
    "              'DRMIS_2.0', 'HIST_CIG_DON', 'HTLV_DON_ND', 'REGION_2',\n",
    "             'RDR1_4.0', 'DIABETES_DON', 'INOTROP_SUPPORT_DON', 'EBV_SEROSTATUS_P',\n",
    "             'DEATH_MECH_DON_3', 'DR1_4', 'HIST_OTH_DRUG_DON']\n",
    "\n",
    "\n",
    "standardize = [([col], StandardScaler()) for col in cols_standardize]\n",
    "leave = [(col, None) for col in cols_leave]\n",
    "\n",
    "x_mapper = DataFrameMapper(standardize + leave)"
   ]
  },
  {
   "cell_type": "code",
   "execution_count": 7,
   "metadata": {},
   "outputs": [],
   "source": [
    "x_train = x_mapper.fit_transform(df_train).astype('float32')\n",
    "x_val = x_mapper.transform(df_val).astype('float32')\n",
    "x_test = x_mapper.transform(df_test).astype('float32')\n"
   ]
  },
  {
   "cell_type": "code",
   "execution_count": 8,
   "metadata": {},
   "outputs": [],
   "source": [
    "get_target = lambda df: (df['GTIME_KI_YEARS'].values, df['GRF_STAT_NUM'].values)\n",
    "y_train = get_target(df_train)\n",
    "y_val = get_target(df_val)\n",
    "durations_test, events_test = get_target(df_test)\n",
    "val = x_val, y_val\n"
   ]
  },
  {
   "cell_type": "markdown",
   "metadata": {},
   "source": [
    "### Neural net"
   ]
  },
  {
   "cell_type": "code",
   "execution_count": 9,
   "metadata": {},
   "outputs": [],
   "source": [
    "n_nodes = 256\n",
    "in_features = x_train.shape[1]\n",
    "num_nodes = [n_nodes, n_nodes, n_nodes, n_nodes]\n",
    "out_features = 1\n",
    "batch_norm = True\n",
    "dropout = 0.4\n",
    "output_bias = False\n",
    "\n",
    "net = tt.practical.MLPVanilla(in_features, num_nodes, out_features, batch_norm,\n",
    "                              dropout, output_bias=output_bias)\n"
   ]
  },
  {
   "cell_type": "code",
   "execution_count": 10,
   "metadata": {},
   "outputs": [
    {
     "data": {
      "image/png": "[encoded data removed]",
      "text/plain": [
       "<Figure size 432x288 with 1 Axes>"
      ]
     },
     "metadata": {
      "needs_background": "light"
     },
     "output_type": "display_data"
    }
   ],
   "source": [
    "model = CoxPH(net, tt.optim.Adam)\n",
    "\n",
    "\n",
    "batch_size = 128\n",
    "lrfinder = model.lr_finder(x_train, y_train, batch_size, tolerance=10)\n",
    "_ = lrfinder.plot()\n",
    "\n",
    "\n"
   ]
  },
  {
   "cell_type": "code",
   "execution_count": 11,
   "metadata": {},
   "outputs": [
    {
     "data": {
      "text/plain": [
       "0.0001"
      ]
     },
     "execution_count": 11,
     "metadata": {},
     "output_type": "execute_result"
    }
   ],
   "source": [
    "best = lrfinder.get_best_lr()\n"
   ]
  },
  {
   "cell_type": "code",
   "execution_count": 12,
   "metadata": {},
   "outputs": [
    {
     "data": {
      "text/plain": [
       "0.0001"
      ]
     },
     "execution_count": 12,
     "metadata": {},
     "output_type": "execute_result"
    }
   ],
   "source": [
    "model.optimizer.set_lr(best)\n",
    "model.optimizer.param_groups[0]['lr']\n"
   ]
  },
  {
   "cell_type": "code",
   "execution_count": 13,
   "metadata": {},
   "outputs": [],
   "source": [
    "epochs = 512\n",
    "callbacks = [tt.callbacks.EarlyStopping()]\n",
    "verbose = True\n"
   ]
  },
  {
   "cell_type": "code",
   "execution_count": 14,
   "metadata": {},
   "outputs": [
    {
     "name": "stdout",
     "output_type": "stream",
     "text": [
      "0:\t[14s / 14s],\t\ttrain_loss: 4.1909,\tval_loss: 3.9681\n",
      "1:\t[14s / 29s],\t\ttrain_loss: 4.0963,\tval_loss: 3.9475\n",
      "2:\t[16s / 45s],\t\ttrain_loss: 4.0543,\tval_loss: 3.9429\n",
      "3:\t[15s / 1m:1s],\t\ttrain_loss: 4.0323,\tval_loss: 3.9391\n",
      "4:\t[17s / 1m:18s],\t\ttrain_loss: 4.0193,\tval_loss: 3.9354\n",
      "5:\t[16s / 1m:35s],\t\ttrain_loss: 4.0056,\tval_loss: 3.9313\n",
      "6:\t[16s / 1m:52s],\t\ttrain_loss: 3.9908,\tval_loss: 3.9319\n",
      "7:\t[15s / 2m:7s],\t\ttrain_loss: 3.9873,\tval_loss: 3.9301\n",
      "8:\t[17s / 2m:25s],\t\ttrain_loss: 3.9808,\tval_loss: 3.9278\n",
      "9:\t[15s / 2m:40s],\t\ttrain_loss: 3.9807,\tval_loss: 3.9268\n",
      "10:\t[15s / 2m:56s],\t\ttrain_loss: 3.9684,\tval_loss: 3.9259\n",
      "11:\t[17s / 3m:14s],\t\ttrain_loss: 3.9672,\tval_loss: 3.9245\n",
      "12:\t[15s / 3m:29s],\t\ttrain_loss: 3.9650,\tval_loss: 3.9230\n",
      "13:\t[16s / 3m:46s],\t\ttrain_loss: 3.9647,\tval_loss: 3.9220\n",
      "14:\t[16s / 4m:3s],\t\ttrain_loss: 3.9638,\tval_loss: 3.9225\n",
      "15:\t[16s / 4m:19s],\t\ttrain_loss: 3.9644,\tval_loss: 3.9218\n",
      "16:\t[14s / 4m:34s],\t\ttrain_loss: 3.9592,\tval_loss: 3.9219\n",
      "17:\t[15s / 4m:49s],\t\ttrain_loss: 3.9519,\tval_loss: 3.9201\n",
      "18:\t[16s / 5m:5s],\t\ttrain_loss: 3.9610,\tval_loss: 3.9216\n",
      "19:\t[15s / 5m:21s],\t\ttrain_loss: 3.9512,\tval_loss: 3.9185\n",
      "20:\t[16s / 5m:38s],\t\ttrain_loss: 3.9519,\tval_loss: 3.9164\n",
      "21:\t[14s / 5m:52s],\t\ttrain_loss: 3.9555,\tval_loss: 3.9166\n",
      "22:\t[19s / 6m:12s],\t\ttrain_loss: 3.9520,\tval_loss: 3.9190\n",
      "23:\t[16s / 6m:28s],\t\ttrain_loss: 3.9488,\tval_loss: 3.9187\n",
      "24:\t[14s / 6m:43s],\t\ttrain_loss: 3.9492,\tval_loss: 3.9178\n",
      "25:\t[14s / 6m:57s],\t\ttrain_loss: 3.9415,\tval_loss: 3.9160\n",
      "26:\t[17s / 7m:15s],\t\ttrain_loss: 3.9446,\tval_loss: 3.9162\n",
      "27:\t[17s / 7m:32s],\t\ttrain_loss: 3.9488,\tval_loss: 3.9178\n",
      "28:\t[16s / 7m:49s],\t\ttrain_loss: 3.9410,\tval_loss: 3.9199\n",
      "29:\t[17s / 8m:6s],\t\ttrain_loss: 3.9430,\tval_loss: 3.9184\n",
      "30:\t[16s / 8m:23s],\t\ttrain_loss: 3.9417,\tval_loss: 3.9184\n",
      "31:\t[15s / 8m:38s],\t\ttrain_loss: 3.9420,\tval_loss: 3.9169\n",
      "32:\t[16s / 8m:55s],\t\ttrain_loss: 3.9433,\tval_loss: 3.9171\n",
      "33:\t[14s / 9m:10s],\t\ttrain_loss: 3.9354,\tval_loss: 3.9174\n",
      "34:\t[15s / 9m:25s],\t\ttrain_loss: 3.9485,\tval_loss: 3.9175\n",
      "35:\t[15s / 9m:41s],\t\ttrain_loss: 3.9410,\tval_loss: 3.9184\n",
      "CPU times: user 11min 9s, sys: 39.4 s, total: 11min 48s\n",
      "Wall time: 9min 41s\n"
     ]
    }
   ],
   "source": [
    "%%time\n",
    "log = model.fit(x_train, y_train, batch_size, epochs, callbacks, verbose,\n",
    "                val_data=val, val_batch_size=batch_size)\n"
   ]
  },
  {
   "cell_type": "code",
   "execution_count": 15,
   "metadata": {},
   "outputs": [
    {
     "data": {
      "image/png": "[encoded data removed]",
      "text/plain": [
       "<Figure size 432x288 with 1 Axes>"
      ]
     },
     "metadata": {
      "needs_background": "light"
     },
     "output_type": "display_data"
    }
   ],
   "source": [
    "\n",
    "_ = log.plot()\n"
   ]
  },
  {
   "cell_type": "markdown",
   "metadata": {},
   "source": [
    "### Prediction"
   ]
  },
  {
   "cell_type": "code",
   "execution_count": 16,
   "metadata": {},
   "outputs": [],
   "source": [
    "_ = model.compute_baseline_hazards()\n"
   ]
  },
  {
   "cell_type": "code",
   "execution_count": 17,
   "metadata": {},
   "outputs": [],
   "source": [
    "surv = model.predict_surv_df(x_test)\n"
   ]
  },
  {
   "cell_type": "markdown",
   "metadata": {},
   "source": [
    "### Evaluation"
   ]
  },
  {
   "cell_type": "code",
   "execution_count": 18,
   "metadata": {},
   "outputs": [],
   "source": [
    "ev = EvalSurv(surv, durations_test, events_test, censor_surv='km')"
   ]
  },
  {
   "cell_type": "code",
   "execution_count": 19,
   "metadata": {},
   "outputs": [
    {
     "data": {
      "text/plain": [
       "0.6342093298226459"
      ]
     },
     "execution_count": 19,
     "metadata": {},
     "output_type": "execute_result"
    }
   ],
   "source": [
    "ev.concordance_td()\n"
   ]
  },
  {
   "cell_type": "code",
   "execution_count": 34,
   "metadata": {},
   "outputs": [
    {
     "data": {
      "image/png": "[encoded data removed]",
      "text/plain": [
       "<Figure size 432x288 with 1 Axes>"
      ]
     },
     "metadata": {
      "needs_background": "light"
     },
     "output_type": "display_data"
    }
   ],
   "source": [
    "time_grid = np.linspace(durations_test.min(), durations_test.max(), 100)\n",
    "_ = ev.brier_score(time_grid).plot()"
   ]
  },
  {
   "cell_type": "code",
   "execution_count": 40,
   "metadata": {},
   "outputs": [
    {
     "data": {
      "text/plain": [
       "0.1506629840483232"
      ]
     },
     "execution_count": 40,
     "metadata": {},
     "output_type": "execute_result"
    }
   ],
   "source": [
    "# Integrated Brier Score at 10 years\n",
    "time_grid = np.linspace(durations_test.min(), durations_test.max(), 10)\n",
    "ev.integrated_brier_score(time_grid)"
   ]
  },
  {
   "cell_type": "code",
   "execution_count": 35,
   "metadata": {},
   "outputs": [
    {
     "data": {
      "text/plain": [
       "0.060393388974565775"
      ]
     },
     "execution_count": 35,
     "metadata": {},
     "output_type": "execute_result"
    }
   ],
   "source": [
    "#Integrated brier score at 5 years\n",
    "time_grid = np.linspace(durations_test.min(), 5, 100)\n",
    "ev.integrated_brier_score(time_grid)"
   ]
  },
  {
   "cell_type": "code",
   "execution_count": 39,
   "metadata": {},
   "outputs": [
    {
     "data": {
      "text/plain": [
       "0.36792773211442176"
      ]
     },
     "execution_count": 39,
     "metadata": {},
     "output_type": "execute_result"
    }
   ],
   "source": [
    "#The integrated IPCW (negative) binomial log-likelihood. Numerical integration of the `nbll` at 10 years\n",
    "time_grid = np.linspace(durations_test.min(), 10, 100)\n",
    "ev.integrated_nbll(time_grid)"
   ]
  },
  {
   "cell_type": "code",
   "execution_count": 36,
   "metadata": {},
   "outputs": [
    {
     "data": {
      "text/plain": [
       "0.2291833829381999"
      ]
     },
     "execution_count": 36,
     "metadata": {},
     "output_type": "execute_result"
    }
   ],
   "source": [
    "# The integrated IPCW (negative) binomial log-likelihood. Numerical integration of the `nbll`at 5 years\n",
    "time_grid = np.linspace(durations_test.min(), 5, 100)\n",
    "ev.integrated_nbll(time_grid)"
   ]
  }
 ],
 "metadata": {
  "kernelspec": {
   "display_name": "Python 3",
   "language": "python",
   "name": "python3"
  },
  "language_info": {
   "codemirror_mode": {
    "name": "ipython",
    "version": 3
   },
   "file_extension": ".py",
   "mimetype": "text/x-python",
   "name": "python",
   "nbconvert_exporter": "python",
   "pygments_lexer": "ipython3",
   "version": "3.8.5"
  }
 },
 "nbformat": 4,
 "nbformat_minor": 4
}
