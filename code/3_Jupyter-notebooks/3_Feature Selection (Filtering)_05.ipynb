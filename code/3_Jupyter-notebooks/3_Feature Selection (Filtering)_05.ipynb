{
 "cells": [
  {
   "cell_type": "code",
   "execution_count": 1,
   "metadata": {},
   "outputs": [],
   "source": [
    "import pandas as pd\n",
    "import numpy as np\n",
    "import matplotlib.pyplot as plt\n",
    "\n",
    "from sklearn.feature_selection import f_classif, SelectKBest, chi2\n",
    "from sklearn.model_selection import train_test_split\n",
    "from sklearn.preprocessing import StandardScaler\n",
    "from imblearn.under_sampling import RandomUnderSampler\n"
   ]
  },
  {
   "cell_type": "markdown",
   "metadata": {},
   "source": [
    "### ANOVA for Numerical Features, Categorical Output"
   ]
  },
  {
   "cell_type": "code",
   "execution_count": 2,
   "metadata": {},
   "outputs": [],
   "source": [
    "numeric = pd.read_csv('../../data/numeric.csv')"
   ]
  },
  {
   "cell_type": "code",
   "execution_count": 3,
   "metadata": {},
   "outputs": [
    {
     "data": {
      "text/plain": [
       "(165603, 203)"
      ]
     },
     "execution_count": 3,
     "metadata": {},
     "output_type": "execute_result"
    }
   ],
   "source": [
    "numeric.shape"
   ]
  },
  {
   "cell_type": "code",
   "execution_count": 4,
   "metadata": {
    "scrolled": true
   },
   "outputs": [],
   "source": [
    "numeric.set_index(keys = 'TRR_ID_CODE', inplace = True)"
   ]
  },
  {
   "cell_type": "code",
   "execution_count": 5,
   "metadata": {},
   "outputs": [],
   "source": [
    "# Categorical variables encoded numerically\n",
    "numeric.drop(columns = {'INIT_STAT','A1', 'A2','B1',\n",
    "'B2','DR1','DR2','EDUCATION','FUNC_STAT_TCR','DGN_TCR','DIAB','END_STAT',\n",
    "'ETHNICITY','ETHCAT','REGION','PRI_PAYMENT_TCR_KI','FUNC_STAT_TRR',\n",
    "'PRI_PAYMENT_TRR_KI','ORG_REC_ON','DA1','DA2','DB1','DB2','DDR1','DDR2',\n",
    "'RA1','RA2','RB1','RB2','RDR1','RDR2','AMIS', 'BMIS','DRMIS','HLAMIS',\n",
    "'ETHCAT_DON','COD_CAD_DON',\n",
    "'DEATH_CIRCUM_DON','DEATH_MECH_DON',\n",
    "'CANCER_SITE_DON','HIST_DIABETES_DON','END_STAT_KI','ABO_MAT',\n",
    "'DIAG_KI','TX_PROCEDUR_TY_KI','SHARE_TY',\n",
    "'TRANSFUS_TERM_DON'}, inplace = True)"
   ]
  },
  {
   "cell_type": "code",
   "execution_count": 6,
   "metadata": {},
   "outputs": [],
   "source": [
    "# Get percent nulls for each column in df\n",
    "# Used code provided here: https://studymachinelearning.com/pandas-count-missing-values-nan-for-each-columns-in-dataframe/\n",
    "\n",
    "def missing_data(data):\n",
    "    # Count number of missing value in a column\n",
    "    total = data.isnull().sum()           \n",
    "    \n",
    "    # Get Percentage of missing values\n",
    "    percent = (data.isnull().sum()/data.isnull().count()*100)   \n",
    "    temp = pd.concat([total, percent], axis=1, keys=['Total', 'Percent(%)'])\n",
    "\n",
    "    # Create a Type column, that indicates the data-type of the column.\n",
    "    types = []\n",
    "    for col in data.columns:\n",
    "        dtype = str(data[col].dtype)\n",
    "        types.append(dtype)\n",
    "    temp['Types'] = types\n",
    "\n",
    "    return(np.transpose(temp))\n"
   ]
  },
  {
   "cell_type": "code",
   "execution_count": 7,
   "metadata": {},
   "outputs": [],
   "source": [
    "nulls_2 = missing_data(numeric)\n",
    "nulls_2 = nulls_2.transpose()\n",
    "df_keep_2 = nulls_2[nulls_2['Percent(%)'] <= 10]\n",
    "columns = df_keep_2.index.tolist()\n",
    "columns = columns + ['GRF_STAT_NUM']\n",
    "numeric = numeric[columns]"
   ]
  },
  {
   "cell_type": "code",
   "execution_count": 8,
   "metadata": {
    "scrolled": true
   },
   "outputs": [
    {
     "data": {
      "text/plain": [
       "(165603, 48)"
      ]
     },
     "execution_count": 8,
     "metadata": {},
     "output_type": "execute_result"
    }
   ],
   "source": [
    "numeric.shape"
   ]
  },
  {
   "cell_type": "markdown",
   "metadata": {},
   "source": [
    "### Create a temporary numerical dataframe for feature selection"
   ]
  },
  {
   "cell_type": "code",
   "execution_count": 9,
   "metadata": {
    "scrolled": true
   },
   "outputs": [],
   "source": [
    "# Drop columns with information about graft failure/survival.\n",
    "numeric_temp = numeric.drop(columns = {'KDPI','KDRI_RAO','EGFR_CKDEPI_DON','KDRI_MED','GSTATUS_KI',\n",
    "'PSTATUS','PTIME','GTIME_KI','GSTATUS_DTHCNS_KI'})\n"
   ]
  },
  {
   "cell_type": "code",
   "execution_count": 10,
   "metadata": {},
   "outputs": [
    {
     "data": {
      "text/plain": [
       "GRF_STAT_NUM         16726\n",
       "COLD_ISCH_KI          3755\n",
       "PO2_FIO2_DON          2791\n",
       "PO2_DON               2421\n",
       "DAYSWAIT_ALLOC        2246\n",
       "INIT_BMI_CALC         1778\n",
       "CREAT_TRR             1637\n",
       "BMI_TCR               1578\n",
       "HGT_CM_TCR            1352\n",
       "INIT_HGT_CM           1206\n",
       "PCO2_DON              1123\n",
       "PH_DON                 989\n",
       "WGT_KG_TCR             958\n",
       "INIT_WGT_KG            880\n",
       "TBILI_DON              623\n",
       "SGOT_DON               524\n",
       "SGPT_DON               522\n",
       "HEMATOCRIT_DON         412\n",
       "END_BMI_CALC           315\n",
       "BMI_CALC               306\n",
       "BMI_DON_CALC           237\n",
       "HGT_CM_CALC            232\n",
       "SODIUM170_VAL_DON      133\n",
       "WGT_KG_CALC            113\n",
       "WGT_KG_DON_CALC        109\n",
       "BUN_DON                 36\n",
       "CREAT_DON               28\n",
       "HGT_CM_DON_CALC         12\n",
       "ETHNICITY_DON            0\n",
       "DAYSWAIT_CHRON           0\n",
       "INIT_AGE                 0\n",
       "DAYSWAIT_CHRON_KI        0\n",
       "AGE_DON                  0\n",
       "ECD_DONOR                0\n",
       "URINE_INF_DON            0\n",
       "Transplant_Year          0\n",
       "AGE                      0\n",
       "DISTANCE                 0\n",
       "BLOOD_INF_DON            0\n",
       "dtype: int64"
      ]
     },
     "execution_count": 10,
     "metadata": {},
     "output_type": "execute_result"
    }
   ],
   "source": [
    "numeric_temp.isnull().sum().sort_values(ascending = False)\n"
   ]
  },
  {
   "cell_type": "code",
   "execution_count": 11,
   "metadata": {},
   "outputs": [],
   "source": [
    "numeric_temp.dropna(inplace = True)"
   ]
  },
  {
   "cell_type": "code",
   "execution_count": 12,
   "metadata": {},
   "outputs": [
    {
     "data": {
      "text/plain": [
       "(137621, 39)"
      ]
     },
     "execution_count": 12,
     "metadata": {},
     "output_type": "execute_result"
    }
   ],
   "source": [
    "numeric_temp.shape"
   ]
  },
  {
   "cell_type": "markdown",
   "metadata": {},
   "source": [
    "### Feature selection tips from : https://medium.com/analytics-vidhya/feature-selection-using-scikit-learn-5b4362e0c19b"
   ]
  },
  {
   "cell_type": "code",
   "execution_count": 13,
   "metadata": {},
   "outputs": [],
   "source": [
    "X = numeric_temp.drop((['GRF_STAT_NUM']), axis = 1)\n",
    "y = numeric_temp['GRF_STAT_NUM']"
   ]
  },
  {
   "cell_type": "code",
   "execution_count": 14,
   "metadata": {},
   "outputs": [],
   "source": [
    "X_train, X_test, y_train, y_test = train_test_split(X, y, test_size=0.3, random_state=42)"
   ]
  },
  {
   "cell_type": "code",
   "execution_count": 15,
   "metadata": {
    "scrolled": true
   },
   "outputs": [
    {
     "data": {
      "text/plain": [
       "0.0    0.848361\n",
       "1.0    0.151639\n",
       "Name: GRF_STAT_NUM, dtype: float64"
      ]
     },
     "execution_count": 15,
     "metadata": {},
     "output_type": "execute_result"
    }
   ],
   "source": [
    "y_train.value_counts(normalize = True)"
   ]
  },
  {
   "cell_type": "code",
   "execution_count": 16,
   "metadata": {},
   "outputs": [],
   "source": [
    "nm = RandomUnderSampler()\n",
    "\n",
    "X_train_under, y_train_under = nm.fit_resample(X_train, y_train)"
   ]
  },
  {
   "cell_type": "code",
   "execution_count": 17,
   "metadata": {},
   "outputs": [],
   "source": [
    "cols = X_train_under.columns\n",
    "ss = StandardScaler()\n",
    "X_train_under = pd.DataFrame(ss.fit_transform(X_train_under), columns=cols)\n",
    "X_test = pd.DataFrame(ss.transform(X_test), columns=cols)\n"
   ]
  },
  {
   "cell_type": "code",
   "execution_count": 18,
   "metadata": {},
   "outputs": [
    {
     "data": {
      "text/plain": [
       "1.0    14608\n",
       "0.0    14608\n",
       "Name: GRF_STAT_NUM, dtype: int64"
      ]
     },
     "execution_count": 18,
     "metadata": {},
     "output_type": "execute_result"
    }
   ],
   "source": [
    "y_train_under.value_counts()"
   ]
  },
  {
   "cell_type": "code",
   "execution_count": 19,
   "metadata": {},
   "outputs": [
    {
     "name": "stdout",
     "output_type": "stream",
     "text": [
      "The 30 best features are:['WGT_KG_TCR', 'HGT_CM_TCR', 'INIT_WGT_KG', 'INIT_HGT_CM', 'INIT_AGE', 'DAYSWAIT_ALLOC', 'CREAT_TRR', 'AGE_DON', 'BLOOD_INF_DON', 'BUN_DON', 'CREAT_DON', 'SGOT_DON', 'SGPT_DON', 'URINE_INF_DON', 'WGT_KG_DON_CALC', 'AGE', 'DISTANCE', 'COLD_ISCH_KI', 'ECD_DONOR', 'HGT_CM_CALC', 'WGT_KG_CALC', 'BMI_CALC', 'SODIUM170_VAL_DON', 'PO2_DON', 'PH_DON', 'HEMATOCRIT_DON', 'PO2_FIO2_DON', 'PCO2_DON', 'ETHNICITY_DON', 'Transplant_Year']\n"
     ]
    }
   ],
   "source": [
    "X_best = SelectKBest(f_classif, k=30).fit(X_train_under, y_train_under)\n",
    "mask = X_best.get_support() #list of booleans for selected features\n",
    "new_feat = [] \n",
    "for bool, feature in zip(mask, X_train_under.columns):\n",
    "    if bool:\n",
    "        new_feat.append(feature)\n",
    "print('The 30 best features are:{}'.format(new_feat)) # The list of your 30 best features"
   ]
  },
  {
   "cell_type": "code",
   "execution_count": 20,
   "metadata": {},
   "outputs": [
    {
     "data": {
      "text/plain": [
       "array([3.02965437e+01, 8.38886000e+01, 1.52618955e+00, 3.13788139e+01,\n",
       "       4.46559488e+01, 4.49010206e-01, 5.59011451e+02, 1.38996478e+00,\n",
       "       1.05245589e+00, 4.38991975e+02, 9.81329799e+01, 2.48201044e+02,\n",
       "       1.44597858e+01, 1.93342804e+02, 8.87106996e+00, 1.42159851e+01,\n",
       "       2.53710424e+01, 4.79756666e-01, 1.44310364e+01, 2.87130211e-01,\n",
       "       2.90433496e+00, 1.20169272e+00, 5.80567098e+02, 4.62096252e+00,\n",
       "       5.62278034e+01, 4.49010206e-01, 2.31746055e+02, 8.29631050e+01,\n",
       "       8.14717366e+01, 2.86932478e+01, 3.49498916e+01, 4.15419486e+00,\n",
       "       3.94500157e+01, 1.33861680e+02, 7.62317873e+00, 5.16364104e+01,\n",
       "       1.79580533e+01, 5.98211232e+03])"
      ]
     },
     "execution_count": 20,
     "metadata": {},
     "output_type": "execute_result"
    }
   ],
   "source": [
    "X_best.scores_"
   ]
  },
  {
   "cell_type": "code",
   "execution_count": 21,
   "metadata": {
    "scrolled": true
   },
   "outputs": [
    {
     "data": {
      "text/plain": [
       "array([3.73899116e-008, 5.56676366e-020, 2.16695162e-001, 2.14193191e-008,\n",
       "       2.39102195e-011, 5.02810663e-001, 1.95231220e-122, 2.38420650e-001,\n",
       "       3.04950646e-001, 9.25106953e-097, 4.25445140e-023, 1.08674786e-055,\n",
       "       1.43475049e-004, 8.17425947e-044, 2.89963188e-003, 1.63300982e-004,\n",
       "       4.75779176e-007, 4.88538063e-001, 1.45680823e-004, 5.92069534e-001,\n",
       "       8.83523181e-002, 2.72992657e-001, 4.91265588e-127, 3.15916961e-002,\n",
       "       6.63733991e-014, 5.02810663e-001, 3.93391408e-052, 8.87864620e-020,\n",
       "       1.88417803e-019, 8.54394027e-008, 3.42054228e-009, 4.15405016e-002,\n",
       "       3.41301131e-010, 6.84090729e-031, 5.76587848e-003, 6.83908817e-013,\n",
       "       2.26519016e-005, 0.00000000e+000])"
      ]
     },
     "execution_count": 21,
     "metadata": {},
     "output_type": "execute_result"
    }
   ],
   "source": [
    "X_best.pvalues_"
   ]
  },
  {
   "cell_type": "markdown",
   "metadata": {},
   "source": [
    "### Chi-Square Test for Categorical Input, Categorical Output"
   ]
  },
  {
   "cell_type": "code",
   "execution_count": 22,
   "metadata": {},
   "outputs": [
    {
     "name": "stderr",
     "output_type": "stream",
     "text": [
      "/Users/aleishakhan/opt/miniconda3/lib/python3.8/site-packages/IPython/core/interactiveshell.py:3146: DtypeWarning: Columns (13,14,15,16,17,18,22,28,29,30,44,47,48,64,65,74,126,142,153,165,167) have mixed types.Specify dtype option on import or set low_memory=False.\n",
      "  has_raised = await self.run_ast_nodes(code_ast.body, cell_name,\n"
     ]
    },
    {
     "data": {
      "text/plain": [
       "(165603, 196)"
      ]
     },
     "execution_count": 22,
     "metadata": {},
     "output_type": "execute_result"
    }
   ],
   "source": [
    "categorical = pd.read_csv('../../data/categorical.csv')\n",
    "categorical.shape"
   ]
  },
  {
   "cell_type": "code",
   "execution_count": 23,
   "metadata": {},
   "outputs": [],
   "source": [
    "pd.set_option('display.max_columns', None)\n",
    "categorical.set_index(keys = 'TRR_ID_CODE', inplace = True)"
   ]
  },
  {
   "cell_type": "code",
   "execution_count": 24,
   "metadata": {},
   "outputs": [],
   "source": [
    "categorical.drop(columns = {'PX_STAT_DATE', 'INIT_DATE', 'WT_QUAL_DATE',\n",
    "                  'DON_DATE','TX_DATE', 'ADMISSION_DATE',\n",
    "                           'RECOVERY_DATE',}, inplace = True)"
   ]
  },
  {
   "cell_type": "code",
   "execution_count": 25,
   "metadata": {},
   "outputs": [
    {
     "name": "stderr",
     "output_type": "stream",
     "text": [
      "/Users/aleishakhan/opt/miniconda3/lib/python3.8/site-packages/IPython/core/interactiveshell.py:3146: DtypeWarning: Columns (11,13,18,27,41,42,43,44,45,46,47,48,49,50,52,70,95,102,104,108,122,123,137,138,139,141,142,143,144,145,154,169,173,188,191,193,194,197,199,259,266,277,289,294,300,336,337,338,342,354,364,366,369,371,436,437,444,445,446,447,463,509,513,535,536,558,572,586,591,600,603,610,616,623,630,631,633,634,635,636,637,638,639,640,644,662,663,697,707,709,715,717,718,720,721,722,723,728,729,730,731,733,734,735,736,737,738,739,742,743,744,745,747,748,749,751,752,753,754,755,756,757,758,759,761,763,764,765,766,767,768,769,770,771,772,773,774,775,776,777,778,779,780,781,782,783,784,785,786,787,788,789,790,791,793,796,797,799,800,801,805,806,807,925,926,927,928,929,930,931,935,937,938,939,940,975,977,979,993,996,1008,1009,1028,1029,1036,1038) have mixed types.Specify dtype option on import or set low_memory=False.\n",
      "  has_raised = await self.run_ast_nodes(code_ast.body, cell_name,\n"
     ]
    }
   ],
   "source": [
    "df_cat = pd.read_csv('../../data/main_final_table.csv')"
   ]
  },
  {
   "cell_type": "code",
   "execution_count": 26,
   "metadata": {},
   "outputs": [],
   "source": [
    "df_cat = df_cat[['TRR_ID_CODE','INIT_STAT','A1', 'A2','B1',\n",
    "'B2','DR1','DR2','EDUCATION','FUNC_STAT_TCR','DGN_TCR','DIAB','END_STAT',\n",
    "'REGION','PRI_PAYMENT_TCR_KI','FUNC_STAT_TRR',\n",
    "'PRI_PAYMENT_TRR_KI','ORG_REC_ON','DA1','DA2','DB1','DB2','DDR1','DDR2',\n",
    "'RA1','RA2','RB1','RB2','RDR1','RDR2','AMIS', 'BMIS','DRMIS','HLAMIS',\n",
    "'COD_CAD_DON',\n",
    "'DEATH_CIRCUM_DON','DEATH_MECH_DON',\n",
    "'CANCER_SITE_DON','HIST_DIABETES_DON','END_STAT_KI','ABO_MAT',\n",
    "'DIAG_KI','TX_PROCEDUR_TY_KI','SHARE_TY',\n",
    "'TRANSFUS_TERM_DON']]\n",
    "\n",
    "df_cat.drop_duplicates(subset = ['TRR_ID_CODE'], keep = 'last', inplace = True )\n",
    "df_cat.set_index(keys = 'TRR_ID_CODE', inplace = True)"
   ]
  },
  {
   "cell_type": "code",
   "execution_count": 27,
   "metadata": {},
   "outputs": [],
   "source": [
    "categorical = categorical.join(df_cat)"
   ]
  },
  {
   "cell_type": "code",
   "execution_count": 28,
   "metadata": {
    "scrolled": true
   },
   "outputs": [
    {
     "data": {
      "text/plain": [
       "(165603, 232)"
      ]
     },
     "execution_count": 28,
     "metadata": {},
     "output_type": "execute_result"
    }
   ],
   "source": [
    "categorical.shape"
   ]
  },
  {
   "cell_type": "code",
   "execution_count": 29,
   "metadata": {},
   "outputs": [],
   "source": [
    "# TO DUMMIFY:\n",
    "df = pd.get_dummies(categorical, prefix=['PX_STAT','GENDER','ABO','INIT_STAT','A1', 'A2','B1',\n",
    "'B2','DR1','DR2','EDUCATION','FUNC_STAT_TCR','DGN_TCR','DIAB','END_STAT',\n",
    "'REGION','PRI_PAYMENT_TCR_KI','FUNC_STAT_TRR',\n",
    "'PRI_PAYMENT_TRR_KI','ORG_REC_ON','DA1','DA2','DB1','DB2','DDR1','DDR2',\n",
    "'RA1','RA2','RB1','RB2','RDR1','RDR2','AMIS', 'BMIS','DRMIS','HLAMIS',\n",
    "'CMV_DON','HBV_CORE_DON','HBV_SUR_ANTIGEN_DON','COD_CAD_DON',\n",
    "'DEATH_CIRCUM_DON','DEATH_MECH_DON','HEP_C_ANTI_DON','ABO_DON','GENDER_DON',\n",
    "'VDRL_DON','CANCER_SITE_DON','HIST_DIABETES_DON','END_STAT_KI','ABO_MAT',\n",
    "'DIAG_KI','TX_PROCEDUR_TY_KI','EBV_SEROSTATUS','HBV_SUR_ANTIGEN','HCV_SEROSTATUS',\n",
    "'HIV_SEROSTATUS','CMV_STATUS','SHARE_TY','HBSAB_DON','EBV_IGG_CAD_DON',\n",
    "'EBV_IGM_CAD_DON','HIV_DON','EBNA_DON','HTLV_DON',\n",
    "'TRANSFUS_TERM_DON'], columns=['PX_STAT','GENDER','ABO','INIT_STAT','A1', 'A2','B1',\n",
    "'B2','DR1','DR2','EDUCATION','FUNC_STAT_TCR','DGN_TCR','DIAB','END_STAT',\n",
    "'REGION','PRI_PAYMENT_TCR_KI','FUNC_STAT_TRR',\n",
    "'PRI_PAYMENT_TRR_KI','ORG_REC_ON','DA1','DA2','DB1','DB2','DDR1','DDR2',\n",
    "'RA1','RA2','RB1','RB2','RDR1','RDR2','AMIS', 'BMIS','DRMIS','HLAMIS',\n",
    "'CMV_DON','HBV_CORE_DON','HBV_SUR_ANTIGEN_DON','COD_CAD_DON',\n",
    "'DEATH_CIRCUM_DON','DEATH_MECH_DON','HEP_C_ANTI_DON','ABO_DON','GENDER_DON',\n",
    "'VDRL_DON','CANCER_SITE_DON','HIST_DIABETES_DON','END_STAT_KI','ABO_MAT',\n",
    "'DIAG_KI','TX_PROCEDUR_TY_KI','EBV_SEROSTATUS','HBV_SUR_ANTIGEN','HCV_SEROSTATUS',\n",
    "'HIV_SEROSTATUS','CMV_STATUS','SHARE_TY','HBSAB_DON','EBV_IGG_CAD_DON',\n",
    "'EBV_IGM_CAD_DON','HIV_DON','EBNA_DON','HTLV_DON',\n",
    "'TRANSFUS_TERM_DON'])"
   ]
  },
  {
   "cell_type": "code",
   "execution_count": 30,
   "metadata": {},
   "outputs": [],
   "source": [
    "# Convert Y's and N's to 1's & 0's \n",
    "# FOR GRF_STAT, Y = functioning graft, N = failed. Since predicting Graft failure, will set 1 = failure = N\n",
    "df['GRF_STAT'] = df['GRF_STAT'].map({'Y': 0, 'N': 1})\n",
    "# FOR ON_DIALYSIS Y = dialysis administered, N= not administered\n",
    "df['ON_DIALYSIS'] = df['ON_DIALYSIS'].map({'Y': 1, 'N': 0})\n",
    "df['PERIP_VASC'] = df['PERIP_VASC'].map({'Y': 1, 'N': 0, 'U': np.NaN})\n",
    "df['EXH_PERIT_ACCESS'] = df['EXH_PERIT_ACCESS'].map({'Y': 1, 'N': 0, 'U': np.NaN})\n",
    "df['EXH_VASC_ACCESS'] = df['EXH_VASC_ACCESS'].map({'Y': 1, 'N': 0, 'U': np.NaN})\n",
    "df['WORK_INCOME_TCR'] = df['WORK_INCOME_TCR'].map({'Y': 1, 'N': 0, 'U': np.NaN})\n",
    "df['MALIG_TCR_KI'] = df['MALIG_TCR_KI'].map({'Y': 1, 'N': 0, 'U': np.NaN})\n",
    "df['MALIG_TRR'] = df['MALIG_TRR'].map({'Y': 1, 'N': 0, 'U': np.NaN})\n",
    "df['WORK_INCOME_TRR'] = df['WORK_INCOME_TRR'].map({'Y': 1, 'N': 0, 'U': np.NaN})\n",
    "df['DON_RETYP'] = df['DON_RETYP'].map({'Y': 1, 'N': 0})\n",
    "df['DDAVP_DON'] = df['DDAVP_DON'].map({'Y': 1, 'N': 0, 'U': np.NaN})\n",
    "df['NON_HRT_DON'] = df['NON_HRT_DON'].map({'Y': 1, 'N': 0})\n",
    "df['ANTIHYPE_DON'] = df['ANTIHYPE_DON'].map({'Y': 1, 'N': 0, 'U': np.NaN})\n",
    "df['PT_DIURETICS_DON'] = df['PT_DIURETICS_DON'].map({'Y': 1, 'N': 0, 'U': np.NaN})\n",
    "df['PT_STEROIDS_DON'] = df['PT_STEROIDS_DON'].map({'Y': 1, 'N': 0, 'U': np.NaN})\n",
    "df['PT_T3_DON'] = df['PT_T3_DON'].map({'Y': 1, 'N': 0, 'U': np.NaN})\n",
    "df['PT_T4_DON'] = df['PT_T4_DON'].map({'Y': 1, 'N': 0, 'U': np.NaN})\n",
    "df['VASODIL_DON'] = df['VASODIL_DON'].map({'Y': 1, 'N': 0, 'U': np.NaN})\n",
    "df['CLIN_INFECT_DON'] = df['CLIN_INFECT_DON'].map({'Y': 1, 'N': 0, 'U': np.NaN})\n",
    "df['EXTRACRANIAL_CANCER_DON'] = df['EXTRACRANIAL_CANCER_DON'].map({'Y': 1, 'N': 0, 'U': np.NaN})\n",
    "df['HIST_CIG_DON'] = df['HIST_CIG_DON'].map({'Y': 1, 'N': 0, 'U': np.NaN})\n",
    "df['HIST_COCAINE_DON'] = df['HIST_COCAINE_DON'].map({'Y': 1, 'N': 0, 'U': np.NaN})\n",
    "df['HIST_HYPERTENS_DON'] = df['HIST_HYPERTENS_DON'].map({'Y': 1, 'N': 0, 'U': np.NaN})\n",
    "df['INTRACRANIAL_CANCER_DON'] = df['INTRACRANIAL_CANCER_DON'].map({'Y': 1, 'N': 0, 'U': np.NaN})\n",
    "df['HIST_CANCER_DON'] = df['HIST_CANCER_DON'].map({'Y': 1, 'N': 0, 'U': np.NaN})\n",
    "df['HIST_OTH_DRUG_DON'] = df['HIST_OTH_DRUG_DON'].map({'Y': 1, 'N': 0, 'U': np.NaN})\n",
    "df['SKIN_CANCER_DON'] = df['SKIN_CANCER_DON'].map({'Y': 1, 'N': 0, 'U': np.NaN})\n",
    "df['DIABETES_DON'] = df['DIABETES_DON'].map({'Y': 1, 'N': 0, 'U': np.NaN})\n",
    "df['HEPARIN_DON'] = df['HEPARIN_DON'].map({'Y': 1, 'N': 0, 'U': np.NaN})\n",
    "df['ARGININE_DON'] = df['ARGININE_DON'].map({'Y': 1, 'N': 0, 'U': np.NaN})\n",
    "df['INSULIN_DON'] = df['INSULIN_DON'].map({'Y': 1, 'N': 0, 'U': np.NaN})\n",
    "df['PUMP_KI'] = df['PUMP_KI'].map({'Y': 1, 'N': 0})\n",
    "df['DIAL_TRR'] = df['DIAL_TRR'].map({'Y': 1, 'N': 0, 'U': np.NaN})\n",
    "df['GRF_STAT_KI'] = df['GRF_STAT_KI'].map({'Y': 1, 'N': 0})\n",
    "df['DWFG_KI'] = df['DWFG_KI'].map({'Y': 1, 'N': 0})\n",
    "df['PAYBACK'] = df['PAYBACK'].map({'Y': 1, 'N': 0})\n",
    "df['MALIG'] = df['MALIG'].map({'Y': 1, 'N': 0, 'U': np.NaN})\n",
    "df['PROTEIN_URINE'] = df['PROTEIN_URINE'].map({'Y': 1, 'N': 0, 'U': np.NaN})\n",
    "df['INOTROP_SUPPORT_DON'] = df['INOTROP_SUPPORT_DON'].map({'Y': 1, 'N': 0, 'U': np.NaN})\n",
    "df['TATTOOS'] = df['TATTOOS'].map({'Y': 1, 'N': 0, 'U': np.NaN})\n",
    "df['CDC_RISK_HIV_DON'] = df['CDC_RISK_HIV_DON'].map({'Y': 1, 'N': 0, 'U': np.NaN})\n",
    "df['PROTEIN_URINE_DON'] = df['PROTEIN_URINE_DON'].map({'Y': 1, 'N': 0, 'U': np.NaN})\n",
    "df['ALCOHOL_HEAVY_DON'] = df['ALCOHOL_HEAVY_DON'].map({'Y': 1, 'N': 0, 'U': np.NaN})\n",
    "df['TATTOOS_DON'] = df['TATTOOS_DON'].map({'Y': 1, 'N': 0, 'U': np.NaN})\n",
    "df['HISTORY_MI_DON'] = df['HISTORY_MI_DON'].map({'Y': 1, 'N': 0, 'U': np.NaN})\n",
    "df['CORONARY_ANGIO_DON'] = df['CORONARY_ANGIO_DON'].map({'Y': 1, 'N': 0})\n",
    "df['PREV_GASTRO_DIS'] = df['PREV_GASTRO_DIS'].map({'Y': 1, 'N': 0, 'U': np.NaN})\n",
    "df['PRELIM_XMATCH'] = df['PRELIM_XMATCH'].map({'Y': 1, 'N': 0})"
   ]
  },
  {
   "cell_type": "code",
   "execution_count": 31,
   "metadata": {},
   "outputs": [],
   "source": [
    "categorical = df"
   ]
  },
  {
   "cell_type": "code",
   "execution_count": 32,
   "metadata": {},
   "outputs": [],
   "source": [
    "# Get percent nulls for each column in df\n",
    "# Used code provided here: https://studymachinelearning.com/pandas-count-missing-values-nan-for-each-columns-in-dataframe/\n",
    "\n",
    "def missing_data(data):\n",
    "    # Count number of missing value in a column\n",
    "    total = data.isnull().sum()           \n",
    "    \n",
    "    # Get Percentage of missing values\n",
    "    percent = (data.isnull().sum()/data.isnull().count()*100)   \n",
    "    temp = pd.concat([total, percent], axis=1, keys=['Total', 'Percent(%)'])\n",
    "\n",
    "    # Create a Type column, that indicates the data-type of the column.\n",
    "    types = []\n",
    "    for col in data.columns:\n",
    "        dtype = str(data[col].dtype)\n",
    "        types.append(dtype)\n",
    "    temp['Types'] = types\n",
    "\n",
    "    return(np.transpose(temp))"
   ]
  },
  {
   "cell_type": "code",
   "execution_count": 33,
   "metadata": {},
   "outputs": [],
   "source": [
    "nulls = missing_data(categorical)\n",
    "nulls = nulls.transpose()"
   ]
  },
  {
   "cell_type": "code",
   "execution_count": 34,
   "metadata": {},
   "outputs": [],
   "source": [
    "df_keep_2 = nulls[nulls['Percent(%)'] <= 10]"
   ]
  },
  {
   "cell_type": "code",
   "execution_count": 35,
   "metadata": {},
   "outputs": [],
   "source": [
    "columns = df_keep_2.index.tolist()"
   ]
  },
  {
   "cell_type": "code",
   "execution_count": 36,
   "metadata": {},
   "outputs": [],
   "source": [
    "columns = columns + ['GRF_STAT']\n",
    "categorical = categorical[columns]"
   ]
  },
  {
   "cell_type": "code",
   "execution_count": 37,
   "metadata": {
    "scrolled": true
   },
   "outputs": [],
   "source": [
    "categorical = categorical.drop(columns = {'GRF_STAT_KI',\n",
    "'DWFG_KI'})"
   ]
  },
  {
   "cell_type": "code",
   "execution_count": 38,
   "metadata": {},
   "outputs": [
    {
     "data": {
      "text/plain": [
       "(107981, 1677)"
      ]
     },
     "execution_count": 38,
     "metadata": {},
     "output_type": "execute_result"
    }
   ],
   "source": [
    "categorical.isnull().sum().sort_values(ascending=False)\n",
    "categorical = categorical.dropna()\n",
    "categorical.shape"
   ]
  },
  {
   "cell_type": "code",
   "execution_count": 39,
   "metadata": {},
   "outputs": [],
   "source": [
    "X = categorical.drop((['GRF_STAT']), axis = 1)\n",
    "y = categorical['GRF_STAT']"
   ]
  },
  {
   "cell_type": "code",
   "execution_count": 40,
   "metadata": {},
   "outputs": [
    {
     "data": {
      "text/plain": [
       "0.0    65620\n",
       "1.0     9966\n",
       "Name: GRF_STAT, dtype: int64"
      ]
     },
     "execution_count": 40,
     "metadata": {},
     "output_type": "execute_result"
    }
   ],
   "source": [
    "X_train, X_test, y_train, y_test = train_test_split(X, y, test_size=0.3, random_state=42)\n",
    "y_train.value_counts()"
   ]
  },
  {
   "cell_type": "code",
   "execution_count": 41,
   "metadata": {},
   "outputs": [],
   "source": [
    "nm = RandomUnderSampler()\n",
    "\n",
    "X_train_under, y_train_under = nm.fit_resample(X_train, y_train)"
   ]
  },
  {
   "cell_type": "code",
   "execution_count": 42,
   "metadata": {},
   "outputs": [
    {
     "data": {
      "text/plain": [
       "1.0    9966\n",
       "0.0    9966\n",
       "Name: GRF_STAT, dtype: int64"
      ]
     },
     "execution_count": 42,
     "metadata": {},
     "output_type": "execute_result"
    }
   ],
   "source": [
    " y_train_under.value_counts()"
   ]
  },
  {
   "cell_type": "code",
   "execution_count": 43,
   "metadata": {
    "scrolled": false
   },
   "outputs": [
    {
     "name": "stdout",
     "output_type": "stream",
     "text": [
      "The 70 best features are:['MALIG_TCR_KI', 'NON_HRT_DON', 'CLIN_INFECT_DON', 'HIST_CIG_DON', 'HIST_COCAINE_DON', 'HIST_HYPERTENS_DON', 'HIST_OTH_DRUG_DON', 'DIABETES_DON', 'PAYBACK', 'MALIG', 'INOTROP_SUPPORT_DON', 'TATTOOS', 'CDC_RISK_HIV_DON', 'TATTOOS_DON', 'PREV_GASTRO_DIS', 'PX_STAT_N', 'PX_STAT_R', 'B1_42', 'B2_70', 'DR1_3', 'DR2_18', 'EDUCATION_5.0', 'EDUCATION_6.0', 'EDUCATION_998.0', 'FUNC_STAT_TCR_1.0', 'FUNC_STAT_TCR_2070.0', 'DGN_TCR_3008.0', 'DGN_TCR_3012.0', 'DGN_TCR_3072.0', 'DIAB_5.0', 'REGION_2', 'REGION_5', 'PRI_PAYMENT_TCR_KI_13.0', 'FUNC_STAT_TRR_2070.0', 'FUNC_STAT_TRR_2090.0', 'FUNC_STAT_TRR_2100.0', 'RB1_42.0', 'RB2_70.0', 'RDR1_3.0', 'RDR2_18.0', 'DRMIS_0.0', 'DRMIS_2.0', 'HLAMIS_6.0', 'HBV_CORE_DON_P', 'COD_CAD_DON_1', 'COD_CAD_DON_2', 'DEATH_CIRCUM_DON_2', 'DEATH_CIRCUM_DON_5', 'DEATH_CIRCUM_DON_997', 'DEATH_MECH_DON_3', 'DEATH_MECH_DON_4', 'DEATH_MECH_DON_11', 'HIST_DIABETES_DON_4', 'DIAG_KI_3004.0', 'DIAG_KI_3008.0', 'DIAG_KI_3040.0', 'DIAG_KI_3072.0', 'EBV_SEROSTATUS_ND', 'EBV_SEROSTATUS_P', 'EBV_SEROSTATUS_U', 'HBV_SUR_ANTIGEN_U', 'HCV_SEROSTATUS_U', 'HIV_SEROSTATUS_U', 'CMV_STATUS_U', 'HBSAB_DON_N', 'EBV_IGG_CAD_DON_ND', 'EBNA_DON_P', 'EBNA_DON_U', 'HTLV_DON_N', 'HTLV_DON_ND']\n"
     ]
    }
   ],
   "source": [
    "X_best_c = SelectKBest(chi2, k= 70).fit(X_train_under, y_train_under)\n",
    "mask = X_best_c.get_support() #list of booleans for selected features\n",
    "new_feat_2 = [] \n",
    "for bool, feature in zip(mask, X_train_under.columns):\n",
    "    if bool:\n",
    "        new_feat_2.append(feature)\n",
    "print('The 70 best features are:{}'.format(new_feat_2)) # The list of your 70 best categorical features\n"
   ]
  },
  {
   "cell_type": "code",
   "execution_count": 44,
   "metadata": {},
   "outputs": [],
   "source": [
    "scores = X_best_c.scores_\n"
   ]
  },
  {
   "cell_type": "code",
   "execution_count": 45,
   "metadata": {},
   "outputs": [],
   "source": [
    "pvalues = X_best_c.pvalues_\n"
   ]
  },
  {
   "cell_type": "markdown",
   "metadata": {},
   "source": [
    "### Dataframe w/ reduced features for Random Survival Forests"
   ]
  },
  {
   "cell_type": "code",
   "execution_count": 46,
   "metadata": {},
   "outputs": [],
   "source": [
    "new_feat.append('GTIME_KI')\n",
    "new_feat.append('GRF_STAT_NUM')\n",
    "numeric = numeric[new_feat]\n"
   ]
  },
  {
   "cell_type": "code",
   "execution_count": 47,
   "metadata": {},
   "outputs": [],
   "source": [
    "categorical = categorical[new_feat_2]\n"
   ]
  },
  {
   "cell_type": "code",
   "execution_count": 48,
   "metadata": {},
   "outputs": [],
   "source": [
    "df_rsf = categorical.join(numeric)\n"
   ]
  },
  {
   "cell_type": "code",
   "execution_count": 49,
   "metadata": {},
   "outputs": [
    {
     "data": {
      "text/plain": [
       "(107981, 102)"
      ]
     },
     "execution_count": 49,
     "metadata": {},
     "output_type": "execute_result"
    }
   ],
   "source": [
    "df_rsf.shape\n"
   ]
  },
  {
   "cell_type": "code",
   "execution_count": 50,
   "metadata": {},
   "outputs": [
    {
     "data": {
      "text/plain": [
       "TRR_ID_CODE\n",
       "A705660    1458\n",
       "A715738    1068\n",
       "A599066     457\n",
       "A526101     340\n",
       "A51101     1440\n",
       "Name: GTIME_KI, dtype: int64"
      ]
     },
     "execution_count": 50,
     "metadata": {},
     "output_type": "execute_result"
    }
   ],
   "source": [
    "df_rsf['GTIME_KI'].head()\n"
   ]
  },
  {
   "cell_type": "code",
   "execution_count": 51,
   "metadata": {},
   "outputs": [
    {
     "data": {
      "text/plain": [
       "DAYSWAIT_ALLOC       1382\n",
       "COLD_ISCH_KI         1268\n",
       "PO2_FIO2_DON         1211\n",
       "PO2_DON               921\n",
       "CREAT_TRR             830\n",
       "                     ... \n",
       "DIAG_KI_3008.0          0\n",
       "DIAG_KI_3040.0          0\n",
       "DIAG_KI_3072.0          0\n",
       "EBV_SEROSTATUS_ND       0\n",
       "MALIG_TCR_KI            0\n",
       "Length: 102, dtype: int64"
      ]
     },
     "execution_count": 51,
     "metadata": {},
     "output_type": "execute_result"
    }
   ],
   "source": [
    "df_rsf.isnull().sum().sort_values(ascending = False)"
   ]
  },
  {
   "cell_type": "code",
   "execution_count": 52,
   "metadata": {},
   "outputs": [
    {
     "data": {
      "text/plain": [
       "(107981, 102)"
      ]
     },
     "execution_count": 52,
     "metadata": {},
     "output_type": "execute_result"
    }
   ],
   "source": [
    "df_rsf.shape"
   ]
  },
  {
   "cell_type": "code",
   "execution_count": 53,
   "metadata": {},
   "outputs": [
    {
     "data": {
      "text/plain": [
       "(102480, 102)"
      ]
     },
     "execution_count": 53,
     "metadata": {},
     "output_type": "execute_result"
    }
   ],
   "source": [
    "df_rsf.dropna(inplace = True)\n",
    "df_rsf.shape"
   ]
  },
  {
   "cell_type": "code",
   "execution_count": 54,
   "metadata": {},
   "outputs": [
    {
     "data": {
      "text/plain": [
       "0.0    0.870706\n",
       "1.0    0.129294\n",
       "Name: GRF_STAT_NUM, dtype: float64"
      ]
     },
     "execution_count": 54,
     "metadata": {},
     "output_type": "execute_result"
    }
   ],
   "source": [
    "df_rsf['GRF_STAT_NUM'].value_counts(normalize = True)"
   ]
  },
  {
   "cell_type": "code",
   "execution_count": 55,
   "metadata": {},
   "outputs": [
    {
     "data": {
      "text/plain": [
       "TRR_ID_CODE\n",
       "A705660    3.991868\n",
       "A715738    2.924085\n",
       "A599066    1.251224\n",
       "A526101    0.930888\n",
       "A51101     3.942586\n",
       "Name: GTIME_KI_YEARS, dtype: float64"
      ]
     },
     "execution_count": 55,
     "metadata": {},
     "output_type": "execute_result"
    }
   ],
   "source": [
    "# Convert graft life from days to years\n",
    "df_rsf['GTIME_KI_YEARS'] = df_rsf['GTIME_KI'] / 365.2425\n",
    "df_rsf['GTIME_KI_YEARS'].head()"
   ]
  },
  {
   "cell_type": "code",
   "execution_count": 56,
   "metadata": {},
   "outputs": [
    {
     "data": {
      "text/plain": [
       "count    102480.000000\n",
       "mean          4.219939\n",
       "std           3.211010\n",
       "min           0.000000\n",
       "25%           1.522276\n",
       "50%           3.553803\n",
       "75%           6.182194\n",
       "max          14.182358\n",
       "Name: GTIME_KI_YEARS, dtype: float64"
      ]
     },
     "execution_count": 56,
     "metadata": {},
     "output_type": "execute_result"
    }
   ],
   "source": [
    "df_rsf['GTIME_KI_YEARS'].describe()"
   ]
  },
  {
   "cell_type": "code",
   "execution_count": 57,
   "metadata": {},
   "outputs": [],
   "source": [
    "df = df_rsf.drop(columns = 'GTIME_KI')"
   ]
  },
  {
   "cell_type": "code",
   "execution_count": 58,
   "metadata": {},
   "outputs": [
    {
     "data": {
      "text/plain": [
       "(102480, 102)"
      ]
     },
     "execution_count": 58,
     "metadata": {},
     "output_type": "execute_result"
    }
   ],
   "source": [
    "df.shape"
   ]
  },
  {
   "cell_type": "code",
   "execution_count": 60,
   "metadata": {},
   "outputs": [],
   "source": [
    "df.to_csv('../../data/df_gcp.csv', index = True)"
   ]
  }
 ],
 "metadata": {
  "kernelspec": {
   "display_name": "Python 3",
   "language": "python",
   "name": "python3"
  },
  "language_info": {
   "codemirror_mode": {
    "name": "ipython",
    "version": 3
   },
   "file_extension": ".py",
   "mimetype": "text/x-python",
   "name": "python",
   "nbconvert_exporter": "python",
   "pygments_lexer": "ipython3",
   "version": "3.8.5"
  }
 },
 "nbformat": 4,
 "nbformat_minor": 4
}
