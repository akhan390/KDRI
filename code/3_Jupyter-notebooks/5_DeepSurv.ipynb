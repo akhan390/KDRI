{
 "cells": [
  {
   "cell_type": "code",
   "execution_count": 1,
   "metadata": {},
   "outputs": [],
   "source": [
    "import pandas as pd\n",
    "import numpy as np\n",
    "import matplotlib.pyplot as plt\n",
    "from sklearn.preprocessing import StandardScaler\n",
    "from sklearn.model_selection import train_test_split\n",
    "import sksurv.datasets\n",
    "from sklearn_pandas import DataFrameMapper\n",
    "\n",
    "import torch\n",
    "import torchtuples as tt\n",
    "\n",
    "from pycox.models import CoxPH\n",
    "from pycox.evaluation import EvalSurv"
   ]
  },
  {
   "cell_type": "code",
   "execution_count": 2,
   "metadata": {},
   "outputs": [],
   "source": [
    "np.random.seed(1234)\n",
    "_ = torch.manual_seed(123)"
   ]
  },
  {
   "cell_type": "code",
   "execution_count": 3,
   "metadata": {},
   "outputs": [],
   "source": [
    "df = pd.read_csv('../../data/gcp_3.csv')\n",
    "df.set_index(keys = 'TRR_ID_CODE', inplace = True)"
   ]
  },
  {
   "cell_type": "code",
   "execution_count": 4,
   "metadata": {},
   "outputs": [],
   "source": [
    "df_train = df\n",
    "df_test = df_train.sample(frac = 0.2)\n",
    "df_train = df_train.drop(df_test.index)\n",
    "df_val = df_train.sample(frac = 0.2)\n",
    "df_train = df_train.drop(df_val.index)\n"
   ]
  },
  {
   "cell_type": "code",
   "execution_count": 5,
   "metadata": {},
   "outputs": [],
   "source": [
    "# Feature transforms\n",
    "\n",
    "# Used features 0-25 from weights\n",
    "\n",
    "cols_standardize = ['AGE_DON', 'AGE', 'INIT_AGE', 'COLD_ISCH_KI',\n",
    "                    'Transplant_Year', 'BUN_DON', 'DISTANCE', 'PO2_DON',\n",
    "                   'CREAT_TRR', 'CREAT_DON', 'BMI_CALC', 'HEMATOCRIT_DON']\n",
    "\n",
    "cols_leave = ['ECD_DONOR', 'HIST_HYPERTENS_DON', 'URINE_INF_DON',\n",
    "              'DRMIS_2.0', 'HIST_CIG_DON', 'HTLV_DON_ND', 'REGION_2',\n",
    "             'RDR1_4.0', 'DIABETES_DON', 'INOTROP_SUPPORT_DON', 'EBV_SEROSTATUS_P',\n",
    "             'DEATH_MECH_DON_3', 'DR1_4', 'HIST_OTH_DRUG_DON']\n",
    "\n",
    "\n",
    "standardize = [([col], StandardScaler()) for col in cols_standardize]\n",
    "leave = [(col, None) for col in cols_leave]\n",
    "\n",
    "x_mapper = DataFrameMapper(standardize + leave)"
   ]
  },
  {
   "cell_type": "code",
   "execution_count": 6,
   "metadata": {},
   "outputs": [],
   "source": [
    "x_train = x_mapper.fit_transform(df_train).astype('float32')\n",
    "x_val = x_mapper.transform(df_val).astype('float32')\n",
    "x_test = x_mapper.transform(df_test).astype('float32')\n"
   ]
  },
  {
   "cell_type": "code",
   "execution_count": 7,
   "metadata": {},
   "outputs": [],
   "source": [
    "get_target = lambda df: (df['GTIME_KI_YEARS'].values, df['GRF_STAT_NUM'].values)\n",
    "y_train = get_target(df_train)\n",
    "y_val = get_target(df_val)\n",
    "durations_test, events_test = get_target(df_test)\n",
    "val = x_val, y_val\n"
   ]
  },
  {
   "cell_type": "markdown",
   "metadata": {},
   "source": [
    "### Neural net"
   ]
  },
  {
   "cell_type": "code",
   "execution_count": 8,
   "metadata": {},
   "outputs": [],
   "source": [
    "n_nodes = 256\n",
    "in_features = x_train.shape[1]\n",
    "num_nodes = [n_nodes, n_nodes, n_nodes, n_nodes]\n",
    "out_features = 1\n",
    "batch_norm = True\n",
    "dropout = 0.4\n",
    "output_bias = False\n",
    "\n",
    "net = tt.practical.MLPVanilla(in_features, num_nodes, out_features, batch_norm,\n",
    "                              dropout, output_bias=output_bias)\n"
   ]
  },
  {
   "cell_type": "code",
   "execution_count": 9,
   "metadata": {},
   "outputs": [
    {
     "data": {
      "image/png": "[encoded data removed]",
      "text/plain": [
       "<Figure size 432x288 with 1 Axes>"
      ]
     },
     "metadata": {
      "needs_background": "light"
     },
     "output_type": "display_data"
    }
   ],
   "source": [
    "model = CoxPH(net, tt.optim.Adam)\n",
    "\n",
    "\n",
    "batch_size = 500\n",
    "lrfinder = model.lr_finder(x_train, y_train, batch_size, tolerance=10)\n",
    "_ = lrfinder.plot()\n",
    "\n",
    "\n"
   ]
  },
  {
   "cell_type": "code",
   "execution_count": 10,
   "metadata": {},
   "outputs": [],
   "source": [
    "best = lrfinder.get_best_lr()\n"
   ]
  },
  {
   "cell_type": "code",
   "execution_count": 11,
   "metadata": {},
   "outputs": [
    {
     "data": {
      "text/plain": [
       "0.0001"
      ]
     },
     "execution_count": 11,
     "metadata": {},
     "output_type": "execute_result"
    }
   ],
   "source": [
    "model.optimizer.set_lr(best)\n",
    "model.optimizer.param_groups[0]['lr']\n"
   ]
  },
  {
   "cell_type": "code",
   "execution_count": 12,
   "metadata": {},
   "outputs": [],
   "source": [
    "epochs = 512\n",
    "callbacks = [tt.callbacks.EarlyStopping()]\n",
    "verbose = True\n"
   ]
  },
  {
   "cell_type": "code",
   "execution_count": 13,
   "metadata": {},
   "outputs": [
    {
     "name": "stdout",
     "output_type": "stream",
     "text": [
      "0:\t[10s / 10s],\t\ttrain_loss: 5.5854,\tval_loss: 5.3295\n",
      "1:\t[10s / 21s],\t\ttrain_loss: 5.4946,\tval_loss: 5.3164\n",
      "2:\t[6s / 28s],\t\ttrain_loss: 5.4530,\tval_loss: 5.3096\n",
      "3:\t[7s / 35s],\t\ttrain_loss: 5.4244,\tval_loss: 5.3065\n",
      "4:\t[7s / 42s],\t\ttrain_loss: 5.4141,\tval_loss: 5.3038\n",
      "5:\t[6s / 49s],\t\ttrain_loss: 5.4030,\tval_loss: 5.3024\n",
      "6:\t[6s / 55s],\t\ttrain_loss: 5.3938,\tval_loss: 5.3008\n",
      "7:\t[8s / 1m:3s],\t\ttrain_loss: 5.3735,\tval_loss: 5.2971\n",
      "8:\t[9s / 1m:12s],\t\ttrain_loss: 5.3619,\tval_loss: 5.2959\n",
      "9:\t[6s / 1m:19s],\t\ttrain_loss: 5.3642,\tval_loss: 5.2956\n",
      "10:\t[6s / 1m:26s],\t\ttrain_loss: 5.3448,\tval_loss: 5.2940\n",
      "11:\t[6s / 1m:33s],\t\ttrain_loss: 5.3447,\tval_loss: 5.2928\n",
      "12:\t[6s / 1m:40s],\t\ttrain_loss: 5.3495,\tval_loss: 5.2919\n",
      "13:\t[6s / 1m:47s],\t\ttrain_loss: 5.3362,\tval_loss: 5.2917\n",
      "14:\t[7s / 1m:54s],\t\ttrain_loss: 5.3418,\tval_loss: 5.2911\n",
      "15:\t[8s / 2m:2s],\t\ttrain_loss: 5.3284,\tval_loss: 5.2900\n",
      "16:\t[9s / 2m:11s],\t\ttrain_loss: 5.3173,\tval_loss: 5.2895\n",
      "17:\t[8s / 2m:20s],\t\ttrain_loss: 5.3198,\tval_loss: 5.2885\n",
      "18:\t[7s / 2m:28s],\t\ttrain_loss: 5.3259,\tval_loss: 5.2879\n",
      "19:\t[8s / 2m:36s],\t\ttrain_loss: 5.3169,\tval_loss: 5.2876\n",
      "20:\t[6s / 2m:43s],\t\ttrain_loss: 5.3113,\tval_loss: 5.2860\n",
      "21:\t[6s / 2m:50s],\t\ttrain_loss: 5.3101,\tval_loss: 5.2860\n",
      "22:\t[7s / 2m:58s],\t\ttrain_loss: 5.3120,\tval_loss: 5.2861\n",
      "23:\t[7s / 3m:5s],\t\ttrain_loss: 5.3054,\tval_loss: 5.2848\n",
      "24:\t[7s / 3m:13s],\t\ttrain_loss: 5.3049,\tval_loss: 5.2841\n",
      "25:\t[8s / 3m:22s],\t\ttrain_loss: 5.3084,\tval_loss: 5.2844\n",
      "26:\t[8s / 3m:30s],\t\ttrain_loss: 5.2986,\tval_loss: 5.2836\n",
      "27:\t[8s / 3m:39s],\t\ttrain_loss: 5.3059,\tval_loss: 5.2842\n",
      "28:\t[7s / 3m:46s],\t\ttrain_loss: 5.3025,\tval_loss: 5.2839\n",
      "29:\t[7s / 3m:54s],\t\ttrain_loss: 5.2949,\tval_loss: 5.2837\n",
      "30:\t[7s / 4m:1s],\t\ttrain_loss: 5.2991,\tval_loss: 5.2842\n",
      "31:\t[7s / 4m:9s],\t\ttrain_loss: 5.2960,\tval_loss: 5.2837\n",
      "32:\t[7s / 4m:16s],\t\ttrain_loss: 5.2927,\tval_loss: 5.2835\n",
      "33:\t[6s / 4m:23s],\t\ttrain_loss: 5.2928,\tval_loss: 5.2824\n",
      "34:\t[6s / 4m:29s],\t\ttrain_loss: 5.2974,\tval_loss: 5.2829\n",
      "35:\t[7s / 4m:37s],\t\ttrain_loss: 5.2927,\tval_loss: 5.2837\n",
      "36:\t[6s / 4m:44s],\t\ttrain_loss: 5.2954,\tval_loss: 5.2833\n",
      "37:\t[6s / 4m:50s],\t\ttrain_loss: 5.2949,\tval_loss: 5.2825\n",
      "38:\t[6s / 4m:57s],\t\ttrain_loss: 5.2931,\tval_loss: 5.2811\n",
      "39:\t[6s / 5m:4s],\t\ttrain_loss: 5.2938,\tval_loss: 5.2821\n",
      "40:\t[7s / 5m:11s],\t\ttrain_loss: 5.2931,\tval_loss: 5.2821\n",
      "41:\t[7s / 5m:19s],\t\ttrain_loss: 5.2918,\tval_loss: 5.2817\n",
      "42:\t[8s / 5m:28s],\t\ttrain_loss: 5.2905,\tval_loss: 5.2810\n",
      "43:\t[8s / 5m:36s],\t\ttrain_loss: 5.2857,\tval_loss: 5.2806\n",
      "44:\t[8s / 5m:44s],\t\ttrain_loss: 5.2888,\tval_loss: 5.2808\n",
      "45:\t[7s / 5m:52s],\t\ttrain_loss: 5.2875,\tval_loss: 5.2807\n",
      "46:\t[7s / 5m:59s],\t\ttrain_loss: 5.2904,\tval_loss: 5.2819\n",
      "47:\t[7s / 6m:7s],\t\ttrain_loss: 5.2882,\tval_loss: 5.2813\n",
      "48:\t[7s / 6m:15s],\t\ttrain_loss: 5.2824,\tval_loss: 5.2811\n",
      "49:\t[8s / 6m:24s],\t\ttrain_loss: 5.2923,\tval_loss: 5.2824\n",
      "50:\t[8s / 6m:33s],\t\ttrain_loss: 5.2875,\tval_loss: 5.2820\n",
      "51:\t[8s / 6m:41s],\t\ttrain_loss: 5.2838,\tval_loss: 5.2808\n",
      "52:\t[7s / 6m:48s],\t\ttrain_loss: 5.2878,\tval_loss: 5.2809\n",
      "53:\t[12s / 7m:1s],\t\ttrain_loss: 5.2823,\tval_loss: 5.2812\n",
      "CPU times: user 8min 25s, sys: 30.7 s, total: 8min 55s\n",
      "Wall time: 7min 1s\n"
     ]
    }
   ],
   "source": [
    "%%time\n",
    "log = model.fit(x_train, y_train, batch_size, epochs, callbacks, verbose,\n",
    "                val_data=val, val_batch_size=batch_size)\n"
   ]
  },
  {
   "cell_type": "code",
   "execution_count": 14,
   "metadata": {},
   "outputs": [
    {
     "data": {
      "image/png": "[encoded data removed]",
      "text/plain": [
       "<Figure size 432x288 with 1 Axes>"
      ]
     },
     "metadata": {
      "needs_background": "light"
     },
     "output_type": "display_data"
    }
   ],
   "source": [
    "\n",
    "_ = log.plot()\n"
   ]
  },
  {
   "cell_type": "markdown",
   "metadata": {},
   "source": [
    "### Prediction"
   ]
  },
  {
   "cell_type": "code",
   "execution_count": 15,
   "metadata": {},
   "outputs": [],
   "source": [
    "_ = model.compute_baseline_hazards()\n"
   ]
  },
  {
   "cell_type": "code",
   "execution_count": 16,
   "metadata": {},
   "outputs": [],
   "source": [
    "surv = model.predict_surv_df(x_test)\n"
   ]
  },
  {
   "cell_type": "markdown",
   "metadata": {},
   "source": [
    "### Evaluation"
   ]
  },
  {
   "cell_type": "code",
   "execution_count": 17,
   "metadata": {},
   "outputs": [],
   "source": [
    "ev = EvalSurv(surv, durations_test, events_test, censor_surv='km')"
   ]
  },
  {
   "cell_type": "code",
   "execution_count": 18,
   "metadata": {},
   "outputs": [
    {
     "data": {
      "text/plain": [
       "0.6354303186849679"
      ]
     },
     "execution_count": 18,
     "metadata": {},
     "output_type": "execute_result"
    }
   ],
   "source": [
    "ev.concordance_td()\n"
   ]
  },
  {
   "cell_type": "code",
   "execution_count": 19,
   "metadata": {},
   "outputs": [
    {
     "data": {
      "image/png": "[encoded data removed]",
      "text/plain": [
       "<Figure size 432x288 with 1 Axes>"
      ]
     },
     "metadata": {
      "needs_background": "light"
     },
     "output_type": "display_data"
    }
   ],
   "source": [
    "time_grid = np.linspace(durations_test.min(), durations_test.max(), 100)\n",
    "_ = ev.brier_score(time_grid).plot()"
   ]
  },
  {
   "cell_type": "code",
   "execution_count": 20,
   "metadata": {},
   "outputs": [
    {
     "data": {
      "text/plain": [
       "0.15051762162837312"
      ]
     },
     "execution_count": 20,
     "metadata": {},
     "output_type": "execute_result"
    }
   ],
   "source": [
    "# Integrated Brier Score at 10 years\n",
    "time_grid = np.linspace(durations_test.min(), durations_test.max(), 10)\n",
    "ev.integrated_brier_score(time_grid)"
   ]
  },
  {
   "cell_type": "code",
   "execution_count": 21,
   "metadata": {},
   "outputs": [
    {
     "data": {
      "text/plain": [
       "0.060387219336820584"
      ]
     },
     "execution_count": 21,
     "metadata": {},
     "output_type": "execute_result"
    }
   ],
   "source": [
    "#Integrated brier score at 5 years\n",
    "time_grid = np.linspace(durations_test.min(), 5, 100)\n",
    "ev.integrated_brier_score(time_grid)"
   ]
  },
  {
   "cell_type": "code",
   "execution_count": 22,
   "metadata": {},
   "outputs": [
    {
     "data": {
      "text/plain": [
       "0.3678686617023344"
      ]
     },
     "execution_count": 22,
     "metadata": {},
     "output_type": "execute_result"
    }
   ],
   "source": [
    "#The integrated IPCW (negative) binomial log-likelihood. Numerical integration of the `nbll` at 10 years\n",
    "time_grid = np.linspace(durations_test.min(), 10, 100)\n",
    "ev.integrated_nbll(time_grid)"
   ]
  },
  {
   "cell_type": "code",
   "execution_count": 23,
   "metadata": {},
   "outputs": [
    {
     "data": {
      "text/plain": [
       "0.2291222058691968"
      ]
     },
     "execution_count": 23,
     "metadata": {},
     "output_type": "execute_result"
    }
   ],
   "source": [
    "# The integrated IPCW (negative) binomial log-likelihood. Numerical integration of the `nbll`at 5 years\n",
    "time_grid = np.linspace(durations_test.min(), 5, 100)\n",
    "ev.integrated_nbll(time_grid)"
   ]
  }
 ],
 "metadata": {
  "kernelspec": {
   "display_name": "Python 3",
   "language": "python",
   "name": "python3"
  },
  "language_info": {
   "codemirror_mode": {
    "name": "ipython",
    "version": 3
   },
   "file_extension": ".py",
   "mimetype": "text/x-python",
   "name": "python",
   "nbconvert_exporter": "python",
   "pygments_lexer": "ipython3",
   "version": "3.8.5"
  }
 },
 "nbformat": 4,
 "nbformat_minor": 4
}
