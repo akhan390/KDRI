{
 "cells": [
  {
   "cell_type": "code",
   "execution_count": 1,
   "metadata": {},
   "outputs": [],
   "source": [
    "import pandas as pd\n",
    "import numpy as np\n",
    "import matplotlib.pyplot as plt\n",
    "from sklearn.preprocessing import StandardScaler\n",
    "from sklearn.model_selection import train_test_split\n",
    "import sksurv.datasets\n",
    "from sklearn_pandas import DataFrameMapper\n",
    "\n",
    "import torch\n",
    "import torchtuples as tt\n",
    "\n",
    "from pycox.models import CoxPH\n",
    "from pycox.evaluation import EvalSurv"
   ]
  },
  {
   "cell_type": "code",
   "execution_count": 2,
   "metadata": {},
   "outputs": [],
   "source": [
    "np.random.seed(1234)\n",
    "_ = torch.manual_seed(123)"
   ]
  },
  {
   "cell_type": "code",
   "execution_count": 3,
   "metadata": {},
   "outputs": [],
   "source": [
    "df = pd.read_csv('../../data/gcp_2.csv')\n",
    "df.set_index(keys = 'TRR_ID_CODE', inplace = True)"
   ]
  },
  {
   "cell_type": "code",
   "execution_count": 5,
   "metadata": {},
   "outputs": [],
   "source": [
    "df_train = df\n",
    "df_test = df_train.sample(frac = 0.2)\n",
    "df_train = df_train.drop(df_test.index)\n",
    "df_val = df_train.sample(frac = 0.2)\n",
    "df_train = df_train.drop(df_val.index)"
   ]
  },
  {
   "cell_type": "code",
   "execution_count": 6,
   "metadata": {},
   "outputs": [],
   "source": [
    "# Feature transforms\n",
    "\n",
    "cols_standardize = ['AGE_DON', 'AGE', 'INIT_AGE','COLD_ISCH_KI',\n",
    "                    'Transplant_Year', 'BUN_DON', 'DISTANCE', 'PO2_DON',\n",
    "                   'CREAT_TRR', 'CREAT_DON', 'BMI_CALC', 'HEMATOCRIT_DON',\n",
    "                   'PH_DON']\n",
    "\n",
    "cols_leave = ['ECD_DONOR', 'HIST_HYPERTENS_DON', 'URINE_INF_DON',\n",
    "              'DRMIS_2.0', 'HIST_CIG_DON', 'HTLV_DON_ND', 'REGION_2',\n",
    "             'RDR1_4.0', 'DIABETES_DON', 'INOTROP_SUPPORT_DON', 'EBV_SEROSTATUS_P',\n",
    "             'DEATH_MECH_DON_3', 'DR1_4', 'HIST_OTH_DRUG_DON', 'EDUCATION_5.0', 'DIAG_KI_3040.0',\n",
    "             'DEATH_CIRCUM_DON_2', 'REGION_5', 'RDR1_13.0', 'DR1_13']\n",
    "\n",
    "\n",
    "standardize = [([col], StandardScaler()) for col in cols_standardize]\n",
    "leave = [(col, None) for col in cols_leave]\n",
    "\n",
    "x_mapper = DataFrameMapper(standardize + leave)"
   ]
  },
  {
   "cell_type": "code",
   "execution_count": 7,
   "metadata": {},
   "outputs": [],
   "source": [
    "x_train = x_mapper.fit_transform(df_train).astype('float32')\n",
    "x_val = x_mapper.transform(df_val).astype('float32')\n",
    "x_test = x_mapper.transform(df_test).astype('float32')"
   ]
  },
  {
   "cell_type": "code",
   "execution_count": 8,
   "metadata": {},
   "outputs": [],
   "source": [
    "get_target = lambda df: (df['GTIME_KI_YEARS'].values, df['GRF_STAT_NUM'].values)\n",
    "y_train = get_target(df_train)\n",
    "y_val = get_target(df_val)\n",
    "durations_test, events_test = get_target(df_test)\n",
    "val = x_val, y_val"
   ]
  },
  {
   "cell_type": "markdown",
   "metadata": {},
   "source": [
    "### Neural net"
   ]
  },
  {
   "cell_type": "code",
   "execution_count": 9,
   "metadata": {},
   "outputs": [],
   "source": [
    "n_nodes = 256\n",
    "in_features = x_train.shape[1]\n",
    "num_nodes = [n_nodes, n_nodes, n_nodes, n_nodes]\n",
    "out_features = 1\n",
    "batch_norm = True\n",
    "dropout = 0.4\n",
    "output_bias = False\n",
    "\n",
    "net = tt.practical.MLPVanilla(in_features, num_nodes, out_features, batch_norm,\n",
    "                              dropout, output_bias=output_bias)"
   ]
  },
  {
   "cell_type": "code",
   "execution_count": 10,
   "metadata": {},
   "outputs": [
    {
     "data": {
      "image/png": "[encoded data removed]",
      "text/plain": [
       "<Figure size 432x288 with 1 Axes>"
      ]
     },
     "metadata": {
      "needs_background": "light"
     },
     "output_type": "display_data"
    }
   ],
   "source": [
    "model = CoxPH(net, tt.optim.Adam)\n",
    "\n",
    "\n",
    "batch_size = 128\n",
    "lrfinder = model.lr_finder(x_train, y_train, batch_size, tolerance=10)\n",
    "_ = lrfinder.plot()\n",
    "\n",
    "\n"
   ]
  },
  {
   "cell_type": "code",
   "execution_count": 11,
   "metadata": {},
   "outputs": [
    {
     "data": {
      "text/plain": [
       "0.0001"
      ]
     },
     "execution_count": 11,
     "metadata": {},
     "output_type": "execute_result"
    }
   ],
   "source": [
    "lrfinder.get_best_lr()"
   ]
  },
  {
   "cell_type": "code",
   "execution_count": 12,
   "metadata": {},
   "outputs": [
    {
     "data": {
      "text/plain": [
       "0.0001"
      ]
     },
     "execution_count": 12,
     "metadata": {},
     "output_type": "execute_result"
    }
   ],
   "source": [
    "model.optimizer.set_lr(0.0001)\n",
    "model.optimizer.param_groups[0]['lr']"
   ]
  },
  {
   "cell_type": "code",
   "execution_count": 13,
   "metadata": {},
   "outputs": [],
   "source": [
    "epochs = 512\n",
    "callbacks = [tt.callbacks.EarlyStopping()]\n",
    "verbose = True"
   ]
  },
  {
   "cell_type": "code",
   "execution_count": 14,
   "metadata": {},
   "outputs": [
    {
     "name": "stdout",
     "output_type": "stream",
     "text": [
      "0:\t[15s / 15s],\t\ttrain_loss: 4.1971,\tval_loss: 3.9655\n",
      "1:\t[17s / 33s],\t\ttrain_loss: 4.0949,\tval_loss: 3.9510\n",
      "2:\t[16s / 50s],\t\ttrain_loss: 4.0591,\tval_loss: 3.9411\n",
      "3:\t[15s / 1m:5s],\t\ttrain_loss: 4.0290,\tval_loss: 3.9375\n",
      "4:\t[15s / 1m:21s],\t\ttrain_loss: 4.0199,\tval_loss: 3.9305\n",
      "5:\t[16s / 1m:37s],\t\ttrain_loss: 4.0041,\tval_loss: 3.9260\n",
      "6:\t[16s / 1m:53s],\t\ttrain_loss: 3.9966,\tval_loss: 3.9220\n",
      "7:\t[15s / 2m:9s],\t\ttrain_loss: 3.9826,\tval_loss: 3.9199\n",
      "8:\t[15s / 2m:24s],\t\ttrain_loss: 3.9765,\tval_loss: 3.9197\n",
      "9:\t[16s / 2m:41s],\t\ttrain_loss: 3.9760,\tval_loss: 3.9184\n",
      "10:\t[17s / 2m:58s],\t\ttrain_loss: 3.9677,\tval_loss: 3.9164\n",
      "11:\t[21s / 3m:19s],\t\ttrain_loss: 3.9610,\tval_loss: 3.9160\n",
      "12:\t[15s / 3m:35s],\t\ttrain_loss: 3.9557,\tval_loss: 3.9152\n",
      "13:\t[14s / 3m:50s],\t\ttrain_loss: 3.9510,\tval_loss: 3.9156\n",
      "14:\t[16s / 4m:6s],\t\ttrain_loss: 3.9547,\tval_loss: 3.9171\n",
      "15:\t[17s / 4m:23s],\t\ttrain_loss: 3.9521,\tval_loss: 3.9153\n",
      "16:\t[16s / 4m:40s],\t\ttrain_loss: 3.9468,\tval_loss: 3.9146\n",
      "17:\t[17s / 4m:57s],\t\ttrain_loss: 3.9494,\tval_loss: 3.9162\n",
      "18:\t[28s / 5m:26s],\t\ttrain_loss: 3.9498,\tval_loss: 3.9157\n",
      "19:\t[15s / 5m:42s],\t\ttrain_loss: 3.9465,\tval_loss: 3.9154\n",
      "20:\t[15s / 5m:58s],\t\ttrain_loss: 3.9461,\tval_loss: 3.9134\n",
      "21:\t[15s / 6m:13s],\t\ttrain_loss: 3.9343,\tval_loss: 3.9133\n",
      "22:\t[15s / 6m:29s],\t\ttrain_loss: 3.9483,\tval_loss: 3.9139\n",
      "23:\t[16s / 6m:45s],\t\ttrain_loss: 3.9422,\tval_loss: 3.9133\n",
      "24:\t[16s / 7m:1s],\t\ttrain_loss: 3.9416,\tval_loss: 3.9137\n",
      "25:\t[17s / 7m:18s],\t\ttrain_loss: 3.9436,\tval_loss: 3.9137\n",
      "26:\t[18s / 7m:36s],\t\ttrain_loss: 3.9425,\tval_loss: 3.9142\n",
      "27:\t[16s / 7m:53s],\t\ttrain_loss: 3.9367,\tval_loss: 3.9135\n",
      "28:\t[14s / 8m:7s],\t\ttrain_loss: 3.9391,\tval_loss: 3.9163\n",
      "29:\t[27s / 8m:35s],\t\ttrain_loss: 3.9397,\tval_loss: 3.9152\n",
      "30:\t[24s / 8m:59s],\t\ttrain_loss: 3.9391,\tval_loss: 3.9117\n",
      "31:\t[14s / 9m:14s],\t\ttrain_loss: 3.9368,\tval_loss: 3.9118\n",
      "32:\t[15s / 9m:29s],\t\ttrain_loss: 3.9349,\tval_loss: 3.9137\n",
      "33:\t[14s / 9m:44s],\t\ttrain_loss: 3.9316,\tval_loss: 3.9137\n",
      "34:\t[26s / 10m:10s],\t\ttrain_loss: 3.9321,\tval_loss: 3.9156\n",
      "35:\t[41s / 10m:52s],\t\ttrain_loss: 3.9291,\tval_loss: 3.9132\n",
      "36:\t[27s / 11m:19s],\t\ttrain_loss: 3.9355,\tval_loss: 3.9129\n",
      "37:\t[15s / 11m:34s],\t\ttrain_loss: 3.9293,\tval_loss: 3.9143\n",
      "38:\t[22s / 11m:57s],\t\ttrain_loss: 3.9297,\tval_loss: 3.9169\n",
      "39:\t[32s / 12m:29s],\t\ttrain_loss: 3.9281,\tval_loss: 3.9128\n",
      "40:\t[30s / 13m:0s],\t\ttrain_loss: 3.9225,\tval_loss: 3.9147\n",
      "CPU times: user 13min 23s, sys: 51.9 s, total: 14min 15s\n",
      "Wall time: 13min\n"
     ]
    }
   ],
   "source": [
    "%%time\n",
    "log = model.fit(x_train, y_train, batch_size, epochs, callbacks, verbose,\n",
    "                val_data=val, val_batch_size=batch_size)"
   ]
  },
  {
   "cell_type": "code",
   "execution_count": 15,
   "metadata": {},
   "outputs": [
    {
     "data": {
      "image/png": "[encoded data removed]",
      "text/plain": [
       "<Figure size 432x288 with 1 Axes>"
      ]
     },
     "metadata": {
      "needs_background": "light"
     },
     "output_type": "display_data"
    }
   ],
   "source": [
    "\n",
    "_ = log.plot()\n"
   ]
  },
  {
   "cell_type": "markdown",
   "metadata": {},
   "source": [
    "### Prediction"
   ]
  },
  {
   "cell_type": "code",
   "execution_count": 16,
   "metadata": {},
   "outputs": [],
   "source": [
    "_ = model.compute_baseline_hazards()"
   ]
  },
  {
   "cell_type": "code",
   "execution_count": 17,
   "metadata": {},
   "outputs": [],
   "source": [
    "surv = model.predict_surv_df(x_test)"
   ]
  },
  {
   "cell_type": "markdown",
   "metadata": {},
   "source": [
    "### Evaluation"
   ]
  },
  {
   "cell_type": "code",
   "execution_count": 18,
   "metadata": {},
   "outputs": [],
   "source": [
    "ev = EvalSurv(surv, durations_test, events_test, censor_surv='km')"
   ]
  },
  {
   "cell_type": "code",
   "execution_count": 19,
   "metadata": {},
   "outputs": [
    {
     "data": {
      "text/plain": [
       "0.63828841498003"
      ]
     },
     "execution_count": 19,
     "metadata": {},
     "output_type": "execute_result"
    }
   ],
   "source": [
    "ev.concordance_td()"
   ]
  },
  {
   "cell_type": "code",
   "execution_count": 20,
   "metadata": {},
   "outputs": [
    {
     "data": {
      "image/png": "[encoded data removed]",
      "text/plain": [
       "<Figure size 432x288 with 1 Axes>"
      ]
     },
     "metadata": {
      "needs_background": "light"
     },
     "output_type": "display_data"
    }
   ],
   "source": [
    "time_grid = np.linspace(durations_test.min(), durations_test.max(), 100)\n",
    "_ = ev.brier_score(time_grid).plot()"
   ]
  },
  {
   "cell_type": "code",
   "execution_count": 21,
   "metadata": {},
   "outputs": [
    {
     "data": {
      "text/plain": [
       "0.14919221363911622"
      ]
     },
     "execution_count": 21,
     "metadata": {},
     "output_type": "execute_result"
    }
   ],
   "source": [
    "ev.integrated_brier_score(time_grid)"
   ]
  },
  {
   "cell_type": "code",
   "execution_count": 22,
   "metadata": {},
   "outputs": [
    {
     "data": {
      "text/plain": [
       "0.4569231913250121"
      ]
     },
     "execution_count": 22,
     "metadata": {},
     "output_type": "execute_result"
    }
   ],
   "source": [
    "ev.integrated_nbll(time_grid)"
   ]
  },
  {
   "cell_type": "code",
   "execution_count": null,
   "metadata": {},
   "outputs": [],
   "source": []
  }
 ],
 "metadata": {
  "kernelspec": {
   "display_name": "Python 3",
   "language": "python",
   "name": "python3"
  },
  "language_info": {
   "codemirror_mode": {
    "name": "ipython",
    "version": 3
   },
   "file_extension": ".py",
   "mimetype": "text/x-python",
   "name": "python",
   "nbconvert_exporter": "python",
   "pygments_lexer": "ipython3",
   "version": "3.8.5"
  }
 },
 "nbformat": 4,
 "nbformat_minor": 4
}
